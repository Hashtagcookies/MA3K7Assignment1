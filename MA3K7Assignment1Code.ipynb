{
 "cells": [
  {
   "cell_type": "code",
   "execution_count": 1,
   "id": "89f9c99b-5d65-488c-9caa-ceb1d26ddd25",
   "metadata": {},
   "outputs": [],
   "source": [
    "def nextnumber(a,b):\n",
    "    return (a + b) % 10"
   ]
  },
  {
   "cell_type": "code",
   "execution_count": 2,
   "id": "4556c708-f018-45fd-9d24-d47b7693748d",
   "metadata": {},
   "outputs": [
    {
     "name": "stdout",
     "output_type": "stream",
     "text": [
      "12\n",
      "23\n",
      "35\n",
      "58\n",
      "83\n",
      "31\n",
      "14\n",
      "45\n",
      "59\n",
      "94\n",
      "43\n",
      "37\n",
      "70\n",
      "07\n",
      "77\n",
      "74\n",
      "41\n",
      "15\n",
      "56\n",
      "61\n",
      "17\n",
      "78\n",
      "85\n",
      "53\n",
      "38\n",
      "81\n",
      "19\n",
      "90\n",
      "09\n",
      "99\n",
      "98\n",
      "87\n",
      "75\n",
      "52\n",
      "27\n",
      "79\n",
      "96\n",
      "65\n",
      "51\n",
      "16\n",
      "67\n",
      "73\n",
      "30\n",
      "03\n",
      "33\n",
      "36\n",
      "69\n",
      "95\n",
      "54\n",
      "49\n",
      "93\n",
      "32\n",
      "25\n",
      "57\n",
      "72\n",
      "29\n",
      "91\n",
      "10\n",
      "01\n",
      "11\n"
     ]
    }
   ],
   "source": [
    "a = 1\n",
    "b = 3\n",
    "\n",
    "seq = [a,b]\n",
    "pairs = [seq]\n",
    "\n",
    "stringnumber = str(a) + str(b)\n",
    "print(stringnumber)\n",
    "n = 2\n",
    "\n",
    "currentnumber = -1;\n",
    "while True:\n",
    "    nextnum = nextnumber(seq[n-2], seq[n-1])\n",
    "    seq.append(nextnum)\n",
    "    \n",
    "    currentnumber = str(seq[n-1]) + str(nextnum) \n",
    "    if not (str(currentnumber) in stringnumber):\n",
    "        stringnumber = stringnumber + str(nextnum)   \n",
    "        nextpair = [seq[n-1], seq[n]]\n",
    "        pairs.append([seq[n-1], seq[n]])\n",
    "        print(currentnumber)\n",
    "        n +=1\n",
    "    else:\n",
    "        break\n"
   ]
  }
 ],
 "metadata": {
  "kernelspec": {
   "display_name": "Python 3 (ipykernel)",
   "language": "python",
   "name": "python3"
  },
  "language_info": {
   "codemirror_mode": {
    "name": "ipython",
    "version": 3
   },
   "file_extension": ".py",
   "mimetype": "text/x-python",
   "name": "python",
   "nbconvert_exporter": "python",
   "pygments_lexer": "ipython3",
   "version": "3.9.7"
  }
 },
 "nbformat": 4,
 "nbformat_minor": 5
}
